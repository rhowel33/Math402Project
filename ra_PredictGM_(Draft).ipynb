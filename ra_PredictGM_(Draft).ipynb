{
 "cells": [
  {
   "cell_type": "markdown",
   "metadata": {
    "collapsed": true,
    "pycharm": {
     "name": "#%% md\n"
    }
   },
   "source": [
    "# Predicting Grandmasters\n",
    "## Volume 3 Math 402 Final Project\n",
    "\n",
    "### Damian and Whitney Anderson,\n",
    "### Nathan Christiansen, Reagan Howell\n",
    "\n",
    "#### Date 11/16/2021"
   ]
  },
  {
   "cell_type": "markdown",
   "source": [
    "# Introduction\n",
    "Have you ever started playing a game of chess online and wondered if your opponent was one of the top players on lichess.org?\n",
    "\n",
    "We have ... well, not really, but we were wondering how accurately could you predict your chess opponent based on the moves that they make.\n",
    "In the past, chess opening moves were studied to find the move order that would give the\n",
    "\n",
    "So taking the top ~30 players on lichess.org and downloading their classical and rapid format (>25 min and >10 min respectively) games.\n",
    "With their games in what would it take to help us understand the patterns that these masters are making."
   ],
   "metadata": {
    "collapsed": false
   }
  },
  {
   "cell_type": "markdown",
   "source": [
    "### Importing, Parsing and Cleaning the Data\n",
    "\n",
    "All games were downloaded from lichess.org open database using links like this\n",
    "\n",
    "https://lichess.org/api/games/user/Al_shima?rated=true&analysed=true&tags=true&clocks=true&evals=false&opening=false&perfType=rapid\n",
    "\n",
    "The using regex to remove any of the unimportant information and stripping the .txt files to get the chess game Portable Game Notation (pgn) and the moves that were made."
   ],
   "metadata": {
    "collapsed": false
   }
  },
  {
   "cell_type": "code",
   "execution_count": 1,
   "outputs": [],
   "source": [
    "import os, regex as re, numpy as np, pandas as pd\n",
    "from sklearn.linear_model import LinearRegression, LogisticRegression,LogisticRegressionCV,Perceptron\n",
    "from sklearn.ensemble import RandomForestClassifier\n",
    "from sklearn.neighbors import KNeighborsClassifier\n",
    "from sklearn.model_selection import train_test_split,GridSearchCV\n",
    "from sklearn.naive_bayes import MultinomialNB,GaussianNB\n",
    "\n",
    "from sklearn.neural_network import MLPClassifier\n"
   ],
   "metadata": {
    "collapsed": false,
    "pycharm": {
     "name": "#%%\n"
    }
   }
  },
  {
   "cell_type": "markdown",
   "source": [
    "The main function utilizes the create_database() function to access the data files and build our DataFrame. We create a\n",
    "DataFrame with columns for the players' name, color they were playing as, the variant, and the first 14 moves they make\n",
    "in their game. We then import that Dataframe into chess_games.csv.\n"
   ],
   "metadata": {
    "collapsed": false
   }
  },
  {
   "cell_type": "markdown",
   "source": [
    "### Creating the X-data and the y-targets"
   ],
   "metadata": {
    "collapsed": false
   }
  },
  {
   "cell_type": "markdown",
   "source": [
    "#### Naive Approach"
   ],
   "metadata": {
    "collapsed": false,
    "pycharm": {
     "name": "#%% md\n"
    }
   }
  },
  {
   "cell_type": "markdown",
   "source": [
    "Here we load chess_games.csv and break it into the data and the targets. We hope to predict the name of the Grandmaster\n",
    "playing the game, so we choose the name column as our targets. We are using the first 14 moves the player makes in order\n",
    "to predict who is playing, so our data is the 14 columns of moves from each game. We create a train/test split of .75\n",
    "training and .25 testing."
   ],
   "metadata": {
    "collapsed": false
   }
  },
  {
   "cell_type": "code",
   "execution_count": 2,
   "outputs": [],
   "source": [
    "def load_():\n",
    "    df = pd.read_csv(\"chess_games.csv\")\n",
    "    targets = df.Name\n",
    "    data = df.drop(columns=['Name', 'Color', 'Variant', 'Moves'])\n",
    "    return data, targets\n",
    "\n",
    "\n",
    "def sets_():\n",
    "    data, targets = load_()\n",
    "    data = pd.get_dummies(data,columns=data.columns)\n",
    "    xtrain,xtest,ytrain,ytest = train_test_split(data,targets)\n",
    "    return xtrain,xtest,ytrain,ytest\n",
    "\n",
    "xtrain,xtest,ytrain,ytest = sets_()"
   ],
   "metadata": {
    "collapsed": false,
    "pycharm": {
     "name": "#%%\n"
    }
   }
  },
  {
   "cell_type": "markdown",
   "source": [
    "Now that we have split the data, we use several classifiers with some adjustments to hyper-parameters to figure out\n",
    "which combination gives us the most accurate prediction of the Grandmaster playing any given game. In order to make\n",
    "sure that no classifier got a better split than the others, we (begrudgingly) made the xtrain, xtest, ytrain, and ytest\n",
    "variables global and accessible to any function or method.\n"
   ],
   "metadata": {
    "collapsed": false
   }
  },
  {
   "cell_type": "markdown",
   "source": [
    "## KNeighborsClassifier\n",
    "K Nearest Neighbors\n",
    "\n",
    "After doing a lot of Grid Searching by \"hand\", we found this that looking at the 4 nearest neighbors,\n",
    "using a distance metric and jst the brute force algorithm resulted in the fastest and highest scoring model type."
   ],
   "metadata": {
    "collapsed": false
   }
  },
  {
   "cell_type": "code",
   "execution_count": 7,
   "outputs": [
    {
     "data": {
      "text/plain": "0.034973325429756966"
     },
     "execution_count": 7,
     "metadata": {},
     "output_type": "execute_result"
    }
   ],
   "source": [
    "KNeighborsClassifier(n_neighbors=4,weights='distance',algorithm='brute').fit(xtrain,ytrain).score(xtest,ytest)"
   ],
   "metadata": {
    "collapsed": false,
    "pycharm": {
     "name": "#%%\n"
    }
   }
  },
  {
   "cell_type": "markdown",
   "source": [
    "## MultinomialNB"
   ],
   "metadata": {
    "collapsed": false
   }
  },
  {
   "cell_type": "code",
   "execution_count": 4,
   "outputs": [
    {
     "data": {
      "text/plain": "0.3935981031416716"
     },
     "execution_count": 4,
     "metadata": {},
     "output_type": "execute_result"
    }
   ],
   "source": [
    "MultinomialNB().fit(xtrain,ytrain).score(xtest,ytest)\n"
   ],
   "metadata": {
    "collapsed": false,
    "pycharm": {
     "name": "#%%\n"
    }
   }
  },
  {
   "cell_type": "markdown",
   "source": [
    "## Random Forests"
   ],
   "metadata": {
    "collapsed": false
   }
  },
  {
   "cell_type": "code",
   "execution_count": 5,
   "outputs": [
    {
     "data": {
      "text/plain": "0.3935981031416716"
     },
     "execution_count": 5,
     "metadata": {},
     "output_type": "execute_result"
    }
   ],
   "source": [
    "RandomForestClassifier().fit(xtrain,ytrain).score(xtest,ytest)\n"
   ],
   "metadata": {
    "collapsed": false,
    "pycharm": {
     "name": "#%%\n"
    }
   }
  },
  {
   "cell_type": "markdown",
   "source": [
    "## MLPClassifier"
   ],
   "metadata": {
    "collapsed": false
   }
  },
  {
   "cell_type": "code",
   "execution_count": 6,
   "outputs": [
    {
     "data": {
      "text/plain": "0.3935981031416716"
     },
     "execution_count": 6,
     "metadata": {},
     "output_type": "execute_result"
    }
   ],
   "source": [
    "MLPClassifier(hidden_layer_sizes=(50,)).fit(xtrain,ytrain).score(xtest,ytest)\n",
    "\n"
   ],
   "metadata": {
    "collapsed": false,
    "pycharm": {
     "name": "#%%\n"
    }
   }
  }
 ],
 "metadata": {
  "kernelspec": {
   "display_name": "Python 3",
   "language": "python",
   "name": "python3"
  },
  "language_info": {
   "codemirror_mode": {
    "name": "ipython",
    "version": 2
   },
   "file_extension": ".py",
   "mimetype": "text/x-python",
   "name": "python",
   "nbconvert_exporter": "python",
   "pygments_lexer": "ipython2",
   "version": "2.7.6"
  }
 },
 "nbformat": 4,
 "nbformat_minor": 0
}