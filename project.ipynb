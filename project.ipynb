{
 "cells": [
  {
   "cell_type": "markdown",
   "metadata": {
    "collapsed": true,
    "pycharm": {
     "name": "#%% md\n"
    }
   },
   "source": [
    "# Volume 3 Math 402 Final Project\n",
    "### Damian and Whitney Anderson,\n",
    "### Nathan Christiansen, Reagan Howell\n",
    "\n",
    "#### Date 11/16/2021"
   ]
  },
  {
   "cell_type": "markdown",
   "source": [
    "### Importing, Parsing and Cleaning the Data\n",
    "\n",
    "All games were"
   ],
   "metadata": {
    "collapsed": false,
    "pycharm": {
     "name": "#%% md\n"
    }
   }
  },
  {
   "cell_type": "code",
   "execution_count": null,
   "outputs": [],
   "source": [
    "import os\n",
    "import numpy as np\n",
    "import pandas as pd\n",
    "import regex as re"
   ],
   "metadata": {
    "collapsed": false,
    "pycharm": {
     "name": "#%%\n"
    }
   }
  },
  {
   "cell_type": "code",
   "execution_count": null,
   "outputs": [],
   "source": [
    "def files(path = './games'):\n",
    "    file = os.listdir(path)\n",
    "    players = [file[i][8:-15] for i in range(len(file))]\n",
    "    return file, players"
   ],
   "metadata": {
    "collapsed": false,
    "pycharm": {
     "name": "#%%\n"
    }
   }
  },
  {
   "cell_type": "code",
   "execution_count": null,
   "outputs": [],
   "source": [
    "def get_games(file, player):\n",
    "    white_clock = re.compile('{ \\[%\\S* [0-9]*:[0-9]*:[0-9]*\\] } [0-9]+\\.\\.\\.')\n",
    "    black_clock = re.compile('{ \\[%\\S* [0-9]+:[0-9]+:[0-9]+\\] }')\n",
    "    pre_df = []\n",
    "    with open(file) as fin:\n",
    "        lines = fin.readlines()\n",
    "        for i in range(len(lines)):\n",
    "\n",
    "            if player in lines[i]:\n",
    "                color = lines[i][1:6]\n",
    "                if color == \"White\":\n",
    "                    if ('Variant' in lines[i+6]):\n",
    "                        variant = lines[i+6][10:-3]\n",
    "\n",
    "                    elif ('Variant' in lines[i+7]):\n",
    "                        variant = lines[i+7][10:-3]\n",
    "\n",
    "                    elif ('Variant' in lines[i+8]):\n",
    "                        variant = lines[i+8][10:-3]\n",
    "\n",
    "                    elif ('Variant' in lines[i + 9]):\n",
    "                        variant = lines[i + 9][10:-3]\n",
    "\n",
    "                    elif ('Variant' in lines[i + 10]):\n",
    "                        variant = lines[i + 10][10:-3]\n",
    "\n",
    "                    elif ('Variant' in lines[i + 11]):\n",
    "                        variant = lines[i + 11][10:-3]\n",
    "\n",
    "                    elif ('Variant' in lines[i + 12]):\n",
    "                        variant = lines[i + 12][10:-3]\n",
    "\n",
    "\n",
    "                    if (len(lines[i+14]) > 60) and ('1. ' in lines[i+14]):\n",
    "                        line = lines[i + 14]\n",
    "                        new_line = re.sub(white_clock, str(), line)\n",
    "                        newer_line = re.sub(black_clock, str(), new_line)\n",
    "                        pre_df.append([player, color, variant, newer_line])\n",
    "\n",
    "                    elif (len(lines[i+15]) > 60) and ('1. ' in lines[i+15]):\n",
    "                        line = lines[i + 15]\n",
    "                        new_line = re.sub(white_clock, str(), line)\n",
    "                        newer_line = re.sub(black_clock, str(), new_line)\n",
    "                        pre_df.append([player, color, variant, newer_line])\n",
    "\n",
    "                    elif (len(lines[i+16]) > 60) and ('1. ' in lines[i+16]):\n",
    "                        line = lines[i + 16]\n",
    "                        new_line = re.sub(white_clock, str(), line)\n",
    "                        newer_line = re.sub(black_clock, str(), new_line)\n",
    "                        pre_df.append([player, color, variant, newer_line])\n",
    "\n",
    "\n",
    "                elif color == \"Black\":\n",
    "                    if ('Variant' in lines[i + 6]):\n",
    "                        variant = lines[i + 6][10:-3]\n",
    "\n",
    "\n",
    "                    elif ('Variant' in lines[i + 7]):\n",
    "                        variant = lines[i + 7][10:-3]\n",
    "\n",
    "\n",
    "                    elif ('Variant' in lines[i + 8]):\n",
    "                        variant = lines[i + 8][10:-3]\n",
    "\n",
    "\n",
    "                    elif ('Variant' in lines[i + 9]):\n",
    "                        variant = lines[i + 9][10:-3]\n",
    "\n",
    "\n",
    "                    elif ('Variant' in lines[i + 10]):\n",
    "                        variant = lines[i + 10][10:-3]\n",
    "\n",
    "\n",
    "                    elif ('Variant' in lines[i + 11]):\n",
    "                        variant = lines[i + 11][10:-3]\n",
    "\n",
    "                    elif ('Variant' in lines[i + 12]):\n",
    "                        variant = lines[i + 12][10:-3]\n",
    "\n",
    "\n",
    "\n",
    "                    if (len(lines[i+14]) > 60) and ('1. ' in lines[i+14]):\n",
    "                        line = lines[i + 14]\n",
    "                        new_line = re.sub(white_clock, str(), line)\n",
    "                        newer_line = re.sub(black_clock, str(), new_line)\n",
    "                        pre_df.append([player, color, variant, newer_line])\n",
    "                        # print([player, color, newer_line])\n",
    "\n",
    "                    elif (len(lines[i+15]) > 60) and ('1. ' in lines[i+15]):\n",
    "                        line = lines[i + 15]\n",
    "                        new_line = re.sub(white_clock, str(), line)\n",
    "                        newer_line = re.sub(black_clock, str(), new_line)\n",
    "                        pre_df.append([player, color, variant, newer_line])\n",
    "                        # print([player, color, newer_line])\n",
    "\n",
    "                    # elif (len(lines[i+16]) > 30) and ('1. ' in lines[i+16]):\n",
    "                    #     line = lines[i + 16]\n",
    "                    #     new_line = re.sub(white_clock, str(), line)\n",
    "                    #     newer_line = re.sub(black_clock, str(), new_line)\n",
    "                    #     pre_df.append([player, color, newer_line])\n",
    "                    #     print([player, color, newer_line])\n",
    "    return pre_df"
   ],
   "metadata": {
    "collapsed": false,
    "pycharm": {
     "name": "#%%\n"
    }
   }
  },
  {
   "cell_type": "code",
   "execution_count": null,
   "outputs": [],
   "source": [
    "def create_database():\n",
    "    file, players = files()\n",
    "    df = []\n",
    "    for i in range(len(players)):\n",
    "        df.extend(get_games(path + '/' + file[i], players[i]))\n",
    "    df = pd.DataFrame(df, columns=['Name', 'Color', 'Variant', 'Moves'])\n",
    "    df = df[df['Variant'] == 'Standard']\n",
    "    return df"
   ],
   "metadata": {
    "collapsed": false,
    "pycharm": {
     "name": "#%%\n"
    }
   }
  },
  {
   "cell_type": "code",
   "execution_count": null,
   "outputs": [],
   "source": [
    "def main():\n",
    "    df = create_database()\n",
    "    # print(df.iloc[832])\n",
    "    # df.drop(833,inplace=True)\n",
    "    # print(df.loc[834])\n",
    "    # print(len(df))\n",
    "    moves = [f'{i}.' for i in range(1,16)]\n",
    "    for move in moves:\n",
    "        df[move] = np.nan\n",
    "    for i in range(len(df)):\n",
    "        move_order = df.iloc[i].Moves\n",
    "        if i >830 and i < 835:\n",
    "            pass\n",
    "        else:\n",
    "            # print(i)\n",
    "            for j in range(len(moves)-1):\n",
    "                first_ind = move_order.find(moves[j])\n",
    "                second_ind = move_order.find(moves[j+1])\n",
    "                if second_ind == -1:\n",
    "                    break\n",
    "                else:\n",
    "                    df.loc[i, moves[j]] = move_order[first_ind:second_ind-1]\n",
    "\n",
    "                # break\n",
    "\n",
    "    df.drop(df.columns[-1],axis=1,inplace=True)\n",
    "    df.dropna(inplace=True)\n",
    "    for i in range(len(moves)-1):\n",
    "        # print(df.loc[0,moves[i]])\n",
    "        df.loc[:,moves[i]] = df.loc[:,moves[i]].str[3:]\n",
    "    df = df.dropna()\n",
    "    df.to_csv(r'chess_games.csv', index=True, header=True)\n",
    "    return\n",
    "\n",
    "main()"
   ],
   "metadata": {
    "collapsed": false,
    "pycharm": {
     "name": "#%%\n"
    }
   }
  },
  {
   "cell_type": "markdown",
   "source": [
    "### Creating the X-data and the y-targets"
   ],
   "metadata": {
    "collapsed": false,
    "pycharm": {
     "name": "#%% md\n"
    }
   }
  },
  {
   "cell_type": "code",
   "execution_count": null,
   "outputs": [],
   "source": [
    "def load_():\n",
    "    df = pd.read_csv(\"chess_games.csv\")\n",
    "    targets = df.Name\n",
    "    data = df.drop(columns=['Name', 'Color', 'Variant', 'Moves'])\n",
    "    return data, targets\n",
    "\n",
    "\n",
    "def sets_():\n",
    "    data, targets = load_()\n",
    "    data = pd.get_dummies(data,columns=data.columns)\n",
    "    xtrain,xtest,ytrain,ytest = train_test_split(data,targets)\n",
    "    params = {'n_neighbors': [2,3,4],\n",
    "            'weights' :['uniform','distance'],\n",
    "            'leaf_size' : [30,40,50,60],\n",
    "\n",
    "    }\n",
    "\n",
    "    knnGSCV = GridSearchCV(KNeighborsClassifier(),params,n_jobs=7,scoring='adjusted_mutual_info_score')\n",
    "\n",
    "    print(knnGSCV.fit(xtrain,ytrain).score(xtest,ytest))\n",
    "    # print(KNeighborsClassifier(n_neighbors=4,weights='distance',algorithm='brute').fit(xtrain,ytrain).score(xtest,ytest)) # this is the best\n",
    "\n",
    "\n",
    "    # print(LinearRegression().fit(xtrain,ytrain).score(xtest,ytest))\n",
    "    # print(LinearRegression().fit(xtrain,ytrain).score(xtest,ytest))\n",
    "\n",
    "    # print(LogisticRegression(multi_class=\"multinomial\").fit(xtrain,ytrain).score(xtest,ytest)) # this is good\n",
    "    # print(MultinomialNB().fit(xtrain,ytrain).score(xtest,ytest)) #this is oay\n",
    "   # print(GaussianNB().fit(xtrain,ytrain).score(xtest,ytest)) Not this\n",
    "\n",
    "    # print(Perceptron().fit(xtrain,ytrain).score(xtest,ytest))\n",
    "\n",
    "    # print(MLPClassifier().fit(xtrain,ytrain).score(xtest,ytest))\n",
    "\n",
    "    return\n",
    "sets_()"
   ],
   "metadata": {
    "collapsed": false,
    "pycharm": {
     "name": "#%%\n"
    }
   }
  }
 ],
 "metadata": {
  "kernelspec": {
   "display_name": "Python 3",
   "language": "python",
   "name": "python3"
  },
  "language_info": {
   "codemirror_mode": {
    "name": "ipython",
    "version": 2
   },
   "file_extension": ".py",
   "mimetype": "text/x-python",
   "name": "python",
   "nbconvert_exporter": "python",
   "pygments_lexer": "ipython2",
   "version": "2.7.6"
  }
 },
 "nbformat": 4,
 "nbformat_minor": 0
}