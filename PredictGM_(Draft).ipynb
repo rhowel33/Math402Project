{
 "cells": [
  {
   "cell_type": "markdown",
   "metadata": {
    "pycharm": {
     "name": "#%% md\n"
    }
   },
   "source": [
    "# Predicting Grandmasters\n",
    "## Volume 3 Math 402 Final Project\n",
    "\n",
    "### Damian and Whitney Anderson,\n",
    "### Nathan Christiansen, Reagan Howell\n",
    "\n",
    "#### Date 11/16/2021"
   ]
  },
  {
   "cell_type": "markdown",
   "metadata": {
    "pycharm": {
     "name": "#%% md\n"
    }
   },
   "source": [
    "# Introduction\n",
    "Have you ever started playing a game of chess online and wondered if your opponent was one of the top players on lichess.org?\n",
    "In case you too have stumbled upon this all-too-common quandary, fear not. Have we got the predictor for you.\n",
    "Grandmasters are expert players who consistently score high in international competitions. Frequently, highly advanced chess players will play online matches under pseudonyms, perhaps to attempt new approaches or shoot the breeze, as the kids say.\n",
    "Chess, at its most elite, is not just a game of strategy but is also played with great personal style. Different players favor different techniques, to the point of their signatures being recognizable in their first few moves. Knowing who you are playing against can be game-turning information, as you’d better be able to anticipate their opening strategies.\n",
    "We hypothesize that we could make a predictor effective enough to pinpoint who is playing in both classical (\\~45 minute) and rapid (\\~15 minute) format games by training classifiers using data from the top 27 players on lichess.org."
   ]
  },
  {
   "cell_type": "markdown",
   "metadata": {
    "pycharm": {
     "name": "#%% md\n"
    }
   },
   "source": [
    "### Importing, Parsing and Cleaning the Data\n",
    "\n",
    "All games were downloaded from lichess.org open database using links like this\n",
    "\n",
    "https://lichess.org/api/games/user/Al_shima?rated=true&analysed=true&tags=true&clocks=true&evals=false&opening=false&perfType=rapid\n",
    "\n",
    "The using regex to remove any of the unimportant information and stripping the .txt files to get the chess game Portable Game Notation (pgn) and the moves that were made."
   ]
  },
  {
   "cell_type": "code",
   "execution_count": 1,
   "metadata": {
    "pycharm": {
     "name": "#%%\n"
    }
   },
   "outputs": [],
   "source": [
    "import os, regex as re, numpy as np, pandas as pd\n",
    "from sklearn.linear_model import LinearRegression, LogisticRegression,LogisticRegressionCV,Perceptron\n",
    "from sklearn.ensemble import RandomForestClassifier\n",
    "from sklearn.neighbors import KNeighborsClassifier\n",
    "from sklearn.model_selection import train_test_split,GridSearchCV\n",
    "from sklearn.naive_bayes import MultinomialNB,GaussianNB\n",
    "from sklearn.neural_network import MLPClassifier\n",
    "from statistics import mode\n",
    "from parsing import *\n",
    "from matplotlib import pyplot as plt\n",
    "from statistics import mode\n",
    "from matplotlib.colors import LogNorm"
   ]
  },
  {
   "cell_type": "markdown",
   "metadata": {
    "pycharm": {
     "name": "#%% md\n"
    }
   },
   "source": [
    "The main function utilizes the create_database() function to access the data files and build our DataFrame. We create a\n",
    "DataFrame with columns for the players' name, color they were playing as, the variant, and the first 14 moves they make\n",
    "in their game. We then import that Dataframe into chess_games.csv.\n"
   ]
  },
  {
   "cell_type": "markdown",
   "metadata": {
    "pycharm": {
     "name": "#%% md\n"
    }
   },
   "source": [
    "### Creating the X-data and the y-targets"
   ]
  },
  {
   "cell_type": "markdown",
   "metadata": {
    "pycharm": {
     "name": "#%% md\n"
    }
   },
   "source": [
    "Here we load chess_games.csv and break it into the data and the targets. We hope to predict the name of the Grandmaster\n",
    "playing the game, so we choose the name column as our targets. We are using the first 14 moves the player makes in order\n",
    "to predict who is playing, so our data is the 14 columns of moves from each game. We create a train/test split of .75\n",
    "training and .25 testing."
   ]
  },
  {
   "cell_type": "markdown",
   "metadata": {},
   "source": [
    "## Naive Approach\n",
    "If we just guessed the player with the most games, Rochade_Augsburg, our model would be right 40.73% of the time. So any model that we make should be able to beat this average. \n",
    "We started by just taking our train_test_split data and throwing it into all the reasonable machine learning models without any conditions on it. As a baseline measurement we took the mode of the all the players and divided it by the total number of games. \n",
    "Running a K-Nearest Neighbors, Multinomial Naive Bayes, a Random Forest, and a MultiLayer Perceptron Classifier, these are their results."
   ]
  },
  {
   "cell_type": "code",
   "execution_count": 2,
   "metadata": {},
   "outputs": [],
   "source": [
    "def load_():\n",
    "    df = pd.read_csv(\"chess_games.csv\")\n",
    "    targets = df.Name\n",
    "    data = df.drop(columns=['Name', 'Color', 'Variant', 'Moves'])\n",
    "    return data, targets\n",
    "\n",
    "\n",
    "def sets_():\n",
    "    data, targets = load_()\n",
    "    data = pd.get_dummies(data,columns=data.columns)\n",
    "    xtrain,xtest,ytrain,ytest = train_test_split(data,targets)\n",
    "    return xtrain,xtest,ytrain,ytest\n",
    "\n",
    "xtrain,xtest,ytrain,ytest = sets_()"
   ]
  },
  {
   "cell_type": "code",
   "execution_count": 3,
   "metadata": {},
   "outputs": [
    {
     "name": "stdout",
     "output_type": "stream",
     "text": [
      "Our baseline is 0.3940917661847894 which we get by guessing Rochade_Augsburg.\n"
     ]
    }
   ],
   "source": [
    "def generate_baseline(ytrain,ytest):\n",
    "    best_guess = mode(ytrain)\n",
    "    baseline = sum(ytest == best_guess) / len(ytest)\n",
    "    return baseline, best_guess\n",
    "print(\"Our baseline is {} which we get by guessing {}.\".format(*generate_baseline(ytrain,ytest)))"
   ]
  },
  {
   "cell_type": "markdown",
   "metadata": {
    "pycharm": {
     "name": "#%% md\n"
    }
   },
   "source": [
    "Now that we have split the data, we use several classifiers with some adjustments to hyper-parameters to figure out\n",
    "which combination gives us the most accurate prediction of the Grandmaster playing any given game. In order to make\n",
    "sure that no classifier got a better split than the others, we (begrudgingly) made the xtrain, xtest, ytrain, and ytest \n",
    "variables global and accessible to any function or method.\n"
   ]
  },
  {
   "cell_type": "markdown",
   "metadata": {},
   "source": [
    "### Initial Model Training\n",
    "\n",
    "After doing a lot of Grid Searching by \"hand\", we found the best hyperparamters, and we used those in our initial trainings."
   ]
  },
  {
   "cell_type": "code",
   "execution_count": 4,
   "metadata": {
    "pycharm": {
     "name": "#%%\n"
    }
   },
   "outputs": [
    {
     "name": "stdout",
     "output_type": "stream",
     "text": [
      "When running a K Nearest Neighbors Classifier, we scored: 0.6361\n",
      "When running a Multinomial Naive Bayes Classifier, we scored: 0.6078\n",
      "When running a Random Forest  Classifier, we scored: 0.621\n",
      "When running a Multi-Layer Perceptron , we scored: 0.6254\n"
     ]
    }
   ],
   "source": [
    "print(f\"When running a K Nearest Neighbors Classifier, we scored: {np.round(KNeighborsClassifier(n_neighbors=4,weights='distance',algorithm='brute').fit(xtrain,ytrain).score(xtest,ytest),4)}\")\n",
    "print(f\"When running a Multinomial Naive Bayes Classifier, we scored: {np.round(MultinomialNB().fit(xtrain,ytrain).score(xtest,ytest),4)}\")\n",
    "print(f\"When running a Random Forest  Classifier, we scored: {np.round(RandomForestClassifier().fit(xtrain,ytrain).score(xtest,ytest),4)}\")\n",
    "print(f\"When running a Multi-Layer Perceptron , we scored: {np.round(MLPClassifier(hidden_layer_sizes=(50,)).fit(xtrain,ytrain).score(xtest,ytest),4)}\")"
   ]
  },
  {
   "cell_type": "markdown",
   "metadata": {
    "pycharm": {
     "name": "#%% md\n"
    }
   },
   "source": [
    "## Looking at Move Order\n",
    "Our first attempt at refining our classifier was through editing our ‘Moves’ column. Since each game was recorded\n",
    "as a white move/black move pair and just had another variable that tracked whether or not the player we were anlayzing was playing as white or black, we weren’t actually classifying the players based on their individual moves. Rather, we were classifying them as action-reaction pairs that showed up in their games. To resolve this, we used regular expressions to shift the moves in all games where the player was playing as black. By removing their white opponents’ first move, we were now looking at pairs where it was (player’s move, opponents reaction) in each."
   ]
  },
  {
   "cell_type": "code",
   "execution_count": 5,
   "metadata": {},
   "outputs": [],
   "source": [
    "#New data cleaning fucntions\n",
    "def create_database():\n",
    "    \"\"\"\n",
    "    Calls the files, get_games functions to creates a dataframe\n",
    "    Returns a dataframe\n",
    "\n",
    "    \"\"\"\n",
    "    file, players = files()\n",
    "    df = []\n",
    "    for i in range(len(players)):\n",
    "        #create a list of all the files and their corresponding players and then input that list into the DataFrame\n",
    "        df.extend(get_games(path + '/' + file[i], players[i]))\n",
    "    df = pd.DataFrame(df, columns=['Name', 'Color', 'Variant', 'Moves'])\n",
    "    df = df[df['Variant'] == 'Standard']\n",
    "    \n",
    "    # shift moves\n",
    "    pattern = re.compile(r\"( [0-9]+.)( \\S+)\")\n",
    "    for i,m in enumerate(df.Moves):\n",
    "        if df.iloc[i].Color=='Black':\n",
    "            new = pattern.sub(r\"\\2\\1\",' '+m)\n",
    "            df.iloc[i].Moves = new[new.find('1'):]\n",
    "    \n",
    "    return df\n",
    "def load_():\n",
    "    df = pd.read_csv(\"chess_games.csv\")\n",
    "    targets = df.Name\n",
    "    data = df.drop(columns=['Name', 'Color', 'Variant', 'Moves'])\n",
    "    return data, targets\n",
    "\n",
    "\n",
    "def sets_():\n",
    "    data, targets = load_()\n",
    "    data = pd.get_dummies(data,columns=data.columns)\n",
    "    xtrain,xtest,ytrain,ytest = train_test_split(data,targets)\n",
    "    # params = {'n_neighbors': [2,3,4],\n",
    "    #         'weights' :['uniform','distance'],\n",
    "    #         'leaf_size' : [30,40,50,60],\n",
    "    #\n",
    "    # }\n",
    "    return xtrain,xtest,ytrain,ytest\n",
    "\n",
    "xtrain,xtest,ytrain,ytest = sets_()\n"
   ]
  },
  {
   "cell_type": "code",
   "execution_count": 6,
   "metadata": {},
   "outputs": [
    {
     "name": "stdout",
     "output_type": "stream",
     "text": [
      "When looking at the Move order and running a K Nearest Neighbors Classifier, we scored: 0.6392\n",
      "When looking at the Move order and running a Multinomial Naive Bayes Classifier, we scored: 0.6047\n",
      "When looking at the Move order and running a Random Forest Classifier, we scored: 0.6084\n",
      "When looking at the Move order and running a Multi Layer Perceptron, we scored: 0.6053\n",
      "When looking at the Move order and running a Naive Bayes Classifier, we scored: 0.5525\n"
     ]
    }
   ],
   "source": [
    "print(f\"When looking at the Move order and running a K Nearest Neighbors Classifier, we scored: {np.round(KNeighborsClassifier(n_neighbors=4,weights='distance',algorithm='brute').fit(xtrain,ytrain).score(xtest,ytest),4)}\")\n",
    "print(f\"When looking at the Move order and running a Multinomial Naive Bayes Classifier, we scored: {np.round(MultinomialNB().fit(xtrain,ytrain).score(xtest,ytest),4)}\")\n",
    "print(f\"When looking at the Move order and running a Random Forest Classifier, we scored: {np.round(RandomForestClassifier().fit(xtrain,ytrain).score(xtest,ytest),4)}\")\n",
    "print(f\"When looking at the Move order and running a Multi Layer Perceptron, we scored: {np.round(MLPClassifier(hidden_layer_sizes=(50,)).fit(xtrain,ytrain).score(xtest,ytest),4)}\")\n",
    "print(f\"When looking at the Move order and running a Naive Bayes Classifier, we scored: {np.round(GaussianNB().fit(xtrain,ytrain).score(xtest,ytest),4)}\")"
   ]
  },
  {
   "cell_type": "markdown",
   "metadata": {},
   "source": [
    "## Splitting on color\n",
    "Each of the classifiers gives us about a 60-65% confidence rate in predicting the Grandmaster that we are playing against in any given game. Given that this is from a set of 27 Grandmasters, that means that just a random guess would be correct about 3-4 percent of the time, we feel that this is a pretty good algorithm for prediction.\n",
    "Next, we will adjust the way that we organize our data. We know that in a game of chess, whether you are playing as white or black vastly changes the sort of strategy that one employs, white being more offensive and black being more defensive. So we will split the data into two databases, separating them based on whether they are playing as black or as white. This may give us a better prediction model as well.\n",
    "Again, we will try several different classifiers to score our prediction models."
   ]
  },
  {
   "cell_type": "code",
   "execution_count": 7,
   "metadata": {},
   "outputs": [],
   "source": [
    "#Getting the White and black data sets\n",
    "def load_():\n",
    "    df = pd.read_csv(\"chess_games.csv\")\n",
    "    targets = df.Name\n",
    "    data = df.drop(columns=['Name', 'Variant', 'Moves'])\n",
    "    return data, targets\n",
    "\n",
    "\n",
    "def sets_():\n",
    "    data, targets = load_()\n",
    "    cols = list(data.columns).remove(\"Color\")\n",
    "    data = pd.get_dummies(data,columns=cols)\n",
    "    xtrain0,xtest0,ytrain0,ytest0 = train_test_split(data[data['Color_White']==0],targets[data['Color_White']==0])\n",
    "    xtrain1,xtest1,ytrain1,ytest1 = train_test_split(data[data['Color_White']==1],targets[data['Color_White']==1])\n",
    "\n",
    "    xtrain0.drop(columns=['Color_White','Color_Black'],inplace=True)\n",
    "    xtest0.drop(columns=['Color_White','Color_Black'],inplace=True)\n",
    "    xtrain1.drop(columns=['Color_White','Color_Black'],inplace=True)\n",
    "    xtest1.drop(columns=['Color_White','Color_Black'],inplace=True)\n",
    "\n",
    "    return xtrain0,xtest0,ytrain0,ytest0,xtrain1,xtest1,ytrain1,ytest1\n",
    "\n",
    "xtrain0,xtest0,ytrain0,ytest0,xtrain1,xtest1,ytrain1,ytest1 = sets_()\n"
   ]
  },
  {
   "cell_type": "markdown",
   "metadata": {},
   "source": [
    "Testing on the color split"
   ]
  },
  {
   "cell_type": "code",
   "execution_count": 8,
   "metadata": {
    "pycharm": {
     "name": "#%%\n"
    }
   },
   "outputs": [
    {
     "name": "stdout",
     "output_type": "stream",
     "text": [
      "Testing K Nearest Neighbors Classifier on the Black games and scored : 0.9954545454545455\n",
      "Testing K Nearest Neighbors Classifier on the White games and scored : 0.9913194444444444\n",
      "Testing Multinomial Naive Bayes Classifier on the Black games and scored : 0.5181818181818182\n",
      "Testing Multinomial Naive Bayes Classifier on the White games and scored : 0.3776041666666667\n",
      "Testing Random Forest Classifier on the Black games and scored : 0.7727272727272727\n",
      "Testing Random Forest Classifier on the White games and scored : 0.7534722222222222\n",
      "Testing Multi Layer Perceptron on the Black games and scored : 0.7090909090909091\n",
      "Testing Multi Layer Perceptron on the White games and scored : 0.6944444444444444\n",
      "Testing Naive Bayes Classifier on the Black games and scored : 0.23636363636363636\n",
      "Testing Naive Bayes Classifier on the White games and scored : 0.4322916666666667\n"
     ]
    }
   ],
   "source": [
    "print(f'Testing K Nearest Neighbors Classifier on the Black games and scored : {KNeighborsClassifier(n_neighbors=4,weights=\"distance\",algorithm=\"brute\").fit(xtrain0,ytrain0).score(xtest0,ytest0)}')\n",
    "print(f'Testing K Nearest Neighbors Classifier on the White games and scored : {KNeighborsClassifier(n_neighbors=4,weights=\"distance\",algorithm=\"brute\").fit(xtrain1,ytrain1).score(xtest1,ytest1)}')\n",
    "print(f'Testing Multinomial Naive Bayes Classifier on the Black games and scored : {MultinomialNB().fit(xtrain0,ytrain0).score(xtest0,ytest0)}')\n",
    "print(f'Testing Multinomial Naive Bayes Classifier on the White games and scored : {MultinomialNB().fit(xtrain1,ytrain1).score(xtest1,ytest1)}')\n",
    "print(f'Testing Random Forest Classifier on the Black games and scored : {RandomForestClassifier().fit(xtrain0,ytrain0).score(xtest0,ytest0)}')\n",
    "print(f'Testing Random Forest Classifier on the White games and scored : {RandomForestClassifier().fit(xtrain1,ytrain1).score(xtest1,ytest1)}')\n",
    "print(f'Testing Multi Layer Perceptron on the Black games and scored : {MLPClassifier().fit(xtrain0,ytrain0).score(xtest0,ytest0)}')\n",
    "print(f'Testing Multi Layer Perceptron on the White games and scored : {MLPClassifier().fit(xtrain1,ytrain1).score(xtest1,ytest1)}')\n",
    "print(f'Testing Naive Bayes Classifier on the Black games and scored : {GaussianNB().fit(xtrain0,ytrain0).score(xtest0,ytest0)}')\n",
    "print(f'Testing Naive Bayes Classifier on the White games and scored : {GaussianNB().fit(xtrain1,ytrain1).score(xtest1,ytest1)}')"
   ]
  },
  {
   "cell_type": "markdown",
   "metadata": {},
   "source": [
    "###### Why is the K Nearest Neighbors classifier working so well compared to the other classifiers?\n",
    "K Nearest Neighbors works by looking at the given row of data, and finding the K rows of data that are most similar to the given row. The label that is most common in those K “Nearest Neighbors” is the label that is chosen to classify the given row of data. In our data, this corresponds to looking at the first 15 moves of the given game, and finding games where the first 15 moves were very similar. As with any sort of game involving strategy, people who play the game will find their style of play and regularly fall back on the same moves that are often successful for them. So given a game played by a certain Grandmaster, the games with the most similar moves will be played by themselves, and thus the K Nearest Neighbors classifier was able to recognize the person who played the game.\n"
   ]
  },
  {
   "cell_type": "code",
   "execution_count": 9,
   "metadata": {},
   "outputs": [],
   "source": [
    "def sets_():\n",
    "    data, targets = load_()\n",
    "    # print(data.columns)\n",
    "    cols = list(data.columns).remove(\"Color\")\n",
    "    data = pd.get_dummies(data,columns=cols)\n",
    "    # print(data.columns)\n",
    "    # print(data[data['Color_White']==1])\n",
    "    xtrain,xtest,ytrain,ytest = train_test_split(data[data['Color_White']==0],targets[data['Color_White']==0])\n",
    "    xtrain.drop(columns=['Color_White','Color_Black'],inplace=True)\n",
    "    xtest.drop(columns=['Color_White','Color_Black'],inplace=True)\n",
    "\n",
    "    return xtrain,xtest,ytrain,ytest\n",
    "\n",
    "b_xtrain,b_xtest,b_ytrain,b_ytest = sets_()\n",
    "#black\n",
    "black_predict = KNeighborsClassifier(n_neighbors=4,weights='uniform',algorithm='brute').fit(b_xtrain,b_ytrain).predict(b_xtest)\n",
    "black_score = sum(black_predict == b_ytest) / len(b_ytest)\n",
    "def sets_():\n",
    "    data, targets = load_()\n",
    "    # print(data.columns)\n",
    "    cols = list(data.columns).remove(\"Color\")\n",
    "    data = pd.get_dummies(data,columns=cols)\n",
    "    # print(data.columns)\n",
    "    # print(data[data['Color_White']==1])\n",
    "    xtrain,xtest,ytrain,ytest = train_test_split(data[data['Color_White']==1],targets[data['Color_White']==1])\n",
    "    xtrain.drop(columns=['Color_White','Color_Black'],inplace=True)\n",
    "    xtest.drop(columns=['Color_White','Color_Black'],inplace=True)\n",
    "\n",
    "    return xtrain,xtest,ytrain,ytest\n",
    "\n",
    "w_xtrain,w_xtest,w_ytrain,w_ytest = sets_()\n",
    "#white\n",
    "white_predict = KNeighborsClassifier(n_neighbors=4,weights='uniform',algorithm='brute').fit(w_xtrain,w_ytrain).predict(w_xtest)\n",
    "white_score = sum(white_predict == w_ytest) / len(w_ytest)"
   ]
  },
  {
   "cell_type": "code",
   "execution_count": 10,
   "metadata": {},
   "outputs": [],
   "source": [
    "def confusion_matrix(actual, guesses):\n",
    "    actual = np.array(actual)\n",
    "    guesses = np.array(guesses)\n",
    "    outputs = np.unique(np.concatenate((actual, guesses)))\n",
    "    output_to_index = dict()\n",
    "    for i in range(len(outputs)):\n",
    "        output_to_index[outputs[i]] = i\n",
    "\n",
    "    matrix = np.zeros((len(outputs), len(outputs)))\n",
    "\n",
    "    for i in range(len(actual)):\n",
    "        matrix[output_to_index[actual[i]], output_to_index[guesses[i]]] += 1\n",
    "    return outputs, matrix"
   ]
  },
  {
   "cell_type": "code",
   "execution_count": 11,
   "metadata": {},
   "outputs": [],
   "source": [
    "def summarize_confusion(outputs, matrix):\n",
    "    for i in range(len(outputs)):\n",
    "        print(str(outputs[i]) + \":\")\n",
    "        print(\"Correctly identified \" + str(int(matrix[i][i])) + \" games out of \" + str(int(sum(matrix[i]))) + \".\")\n",
    "        for j in range(len(outputs)):\n",
    "            if i == j:\n",
    "                continue\n",
    "            if matrix[i][j] == 1:\n",
    "                print(str(int(matrix[i][j])) + \" game was misclassified as \" + str(outputs[j]) + \".\")\n",
    "            if matrix[i][j] > 1:\n",
    "                print(str(int(matrix[i][j])) + \" games were misclassified as \" + str(outputs[j]) + \".\")\n",
    "        print()"
   ]
  },
  {
   "cell_type": "code",
   "execution_count": 12,
   "metadata": {},
   "outputs": [],
   "source": [
    "black_labels, black_matrix = confusion_matrix(b_ytest, black_predict)\n",
    "white_labels, white_matrix = confusion_matrix(w_ytest, white_predict)\n",
    "labels, matrix = confusion_matrix(np.concatenate((w_ytest, b_ytest)), np.concatenate((white_predict, black_predict)))"
   ]
  },
  {
   "cell_type": "code",
   "execution_count": 13,
   "metadata": {
    "pycharm": {
     "name": "#%%\n"
    }
   },
   "outputs": [
    {
     "name": "stdout",
     "output_type": "stream",
     "text": [
      "ARM__55555:\n",
      "Correctly identified 14 games out of 16.\n",
      "2 games were misclassified as Casabianka.\n",
      "\n",
      "Casabianka:\n",
      "Correctly identified 56 games out of 56.\n",
      "\n",
      "GabrielTricks2003:\n",
      "Correctly identified 38 games out of 38.\n",
      "\n",
      "GrandLapin:\n",
      "Correctly identified 53 games out of 54.\n",
      "1 game was misclassified as GabrielTricks2003.\n",
      "\n",
      "HoochieChoochieMan:\n",
      "Correctly identified 28 games out of 29.\n",
      "1 game was misclassified as GrandLapin.\n",
      "\n",
      "IAmMateCheckMate:\n",
      "Correctly identified 62 games out of 62.\n",
      "\n",
      "Jack202013:\n",
      "Correctly identified 31 games out of 31.\n",
      "\n",
      "Jebatdurhaka:\n",
      "Correctly identified 49 games out of 49.\n",
      "\n",
      "Konnov_Oleg:\n",
      "Correctly identified 20 games out of 23.\n",
      "1 game was misclassified as Leleilre.\n",
      "2 games were misclassified as kc6.\n",
      "\n",
      "Leleilre:\n",
      "Correctly identified 18 games out of 18.\n",
      "\n",
      "Lord-Universe31:\n",
      "Correctly identified 52 games out of 54.\n",
      "2 games were misclassified as Leleilre.\n",
      "\n",
      "Medarde94:\n",
      "Correctly identified 9 games out of 9.\n",
      "\n",
      "Rochade_Augsburg:\n",
      "Correctly identified 620 games out of 620.\n",
      "\n",
      "RusChessCoach:\n",
      "Correctly identified 10 games out of 10.\n",
      "\n",
      "SouthernChessPlayer:\n",
      "Correctly identified 74 games out of 74.\n",
      "\n",
      "Squaretaker:\n",
      "Correctly identified 98 games out of 98.\n",
      "\n",
      "Suleymanov_Marat:\n",
      "Correctly identified 16 games out of 17.\n",
      "1 game was misclassified as Squaretaker.\n",
      "\n",
      "Thorwald5:\n",
      "Correctly identified 42 games out of 42.\n",
      "\n",
      "jbrere:\n",
      "Correctly identified 54 games out of 54.\n",
      "\n",
      "kc6:\n",
      "Correctly identified 139 games out of 141.\n",
      "1 game was misclassified as Jebatdurhaka.\n",
      "1 game was misclassified as Konnov_Oleg.\n",
      "\n",
      "nmiq:\n",
      "Correctly identified 52 games out of 52.\n",
      "\n",
      "splendidkid:\n",
      "Correctly identified 26 games out of 26.\n",
      "\n",
      "xx-bob:\n",
      "Correctly identified 19 games out of 19.\n",
      "\n"
     ]
    }
   ],
   "source": [
    "summarize_confusion(labels, matrix)"
   ]
  },
  {
   "cell_type": "markdown",
   "metadata": {},
   "source": [
    "## Confusion Matrix\n",
    "\n",
    "The confusion matrix shows which players are misclassified as which other players.\n",
    "The row corresponds to the actual player and the column corresponds to the predicted player.\n",
    "Above each confusion matrix is a list of all the players in the matrix, ordered left to right or top to bottom Dark.\n",
    "These confusion matrices are generated using k nearest neighbors with 4 neighbors.\n",
    "100% accuracy corresponds to all the colors being on the main diagonal"
   ]
  },
  {
   "cell_type": "code",
   "execution_count": 14,
   "metadata": {
    "pycharm": {
     "name": "#%%\n"
    }
   },
   "outputs": [
    {
     "data": {
      "image/png": "[encoded data removed]",
      "text/plain": [
       "<Figure size 432x288 with 1 Axes>"
      ]
     },
     "metadata": {
      "needs_background": "light"
     },
     "output_type": "display_data"
    },
    {
     "data": {
      "image/png": "[encoded data removed]",
      "text/plain": [
       "<Figure size 432x288 with 1 Axes>"
      ]
     },
     "metadata": {
      "needs_background": "light"
     },
     "output_type": "display_data"
    },
    {
     "data": {
      "image/png": "[encoded data removed]",
      "text/plain": [
       "<Figure size 432x288 with 1 Axes>"
      ]
     },
     "metadata": {
      "needs_background": "light"
     },
     "output_type": "display_data"
    }
   ],
   "source": [
    "plt.figure()\n",
    "plt.dpi = 100\n",
    "ax1 = plt.subplot(111)\n",
    "plt.title(\"Black Confusion Matrix\")\n",
    "ax1.matshow(black_matrix, norm = LogNorm())\n",
    "ax1.set_xticks(range(len(black_labels)))\n",
    "ax1.set_xticklabels(black_labels)\n",
    "ax1.tick_params(axis=\"x\", rotation=-90)\n",
    "ax1.set_yticks(range(len(black_labels)))\n",
    "ax1.set_yticklabels(black_labels)\n",
    "# plt.colorbar(c, ax = ax1)\n",
    "plt.show()\n",
    "\n",
    "plt.figure()\n",
    "ax2 = plt.subplot(111)\n",
    "plt.title(\"White Confusion Matrix\")\n",
    "ax2.matshow(white_matrix, norm = LogNorm())\n",
    "ax2.set_xticks(range(len(white_labels)))\n",
    "ax2.set_xticklabels(white_labels)\n",
    "ax2.tick_params(axis=\"x\", rotation=-90)\n",
    "ax2.set_yticks(range(len(white_labels)))\n",
    "ax2.set_yticklabels(white_labels)\n",
    "# plt.colorbar(c, ax = ax2)\n",
    "plt.show()\n",
    "\n",
    "plt.figure()\n",
    "ax3 = plt.subplot(111)\n",
    "plt.title(\"Combined Confusion Matrix\")\n",
    "ax3.matshow(matrix, norm = LogNorm())\n",
    "ax3.set_xticks(range(len(labels)))\n",
    "ax3.set_xticklabels(labels)\n",
    "ax3.tick_params(axis=\"x\", rotation=-90)\n",
    "ax3.set_yticks(range(len(labels)))\n",
    "ax3.set_yticklabels(labels)\n",
    "# plt.colorbar(c, ax = ax3)\n",
    "plt.show()"
   ]
  },
  {
   "cell_type": "code",
   "execution_count": 15,
   "metadata": {},
   "outputs": [
    {
     "name": "stdout",
     "output_type": "stream",
     "text": [
      "White classification 0.9947916666666666\n",
      "Black classification 0.9863636363636363\n",
      "Average score 0.992462311557789\n"
     ]
    }
   ],
   "source": [
    "score = (white_score * len(w_ytest) + black_score * len(b_ytest)) / (len(b_ytest) + len(w_ytest))\n",
    "print(\"White classification\", white_score)\n",
    "print(\"Black classification\", black_score)\n",
    "print(\"Average score\", score)"
   ]
  },
  {
   "cell_type": "markdown",
   "metadata": {},
   "source": [
    "## Removing a Player\n",
    "\n",
    "As data scientists, we have learned to not really trust data. Therefore, we are astounded and amazed at the accuracy of our predicter. We do recognize that over half of our data is games played by one player, Rochade_Augsburg, which could be skewing the accuracy of the predicter by having such a common name to guess. In an attempt to gut check our predicter, we have built a new database with all of Rochade_Augsburg's data removed, so that we can confirm that our predictor is accurate."
   ]
  },
  {
   "cell_type": "code",
   "execution_count": 18,
   "metadata": {},
   "outputs": [],
   "source": [
    "def load_():\n",
    "    df = pd.read_csv(\"chess_games.csv\")\n",
    "    targets = df.Name\n",
    "    df,targets = df[df[\"Name\"]!=\"Rochade_Augsburg\"],targets[df[\"Name\"]!=\"Rochade_Augsburg\"]\n",
    "    data = df.drop(columns=['Name', 'Variant', 'Moves'])\n",
    "    \n",
    "    return data, targets\n",
    "\n",
    "\n",
    "def sets_():\n",
    "    df = pd.read_csv(\"chess_games.csv\")\n",
    "    targets = df.Name\n",
    "    df,targets = df[df[\"Name\"]!=\"Rochade_Augsburg\"],targets[df[\"Name\"]!=\"Rochade_Augsburg\"]\n",
    "    data = df.drop(columns=['Name', 'Variant', 'Moves'])\n",
    "#     print(data['Unnamed: 0'])\n",
    "#     print(len(data[data['Unnamed: 0']!=\"Rochade_Augsburg\"]))\n",
    "#     data,targets = data[data[\"Name\"]!=\"Rochade_Augsburg\"],targets[data[\"Name\"]!=\"Rochade_Augsburg\"]\n",
    "#     cols = list(data.columns).remove(\"Color\")\n",
    "    data = pd.get_dummies(data,columns=data.columns)\n",
    "\n",
    "    xtrain0,xtest0,ytrain0,ytest0 = train_test_split(data[data['Color_White']==0],targets[data['Color_White']==0])\n",
    "    xtrain1,xtest1,ytrain1,ytest1 = train_test_split(data[data['Color_White']==1],targets[data['Color_White']==1])\n",
    "\n",
    "    xtrain0.drop(columns=['Color_White','Color_Black'],inplace=True)\n",
    "    xtest0.drop(columns=['Color_White','Color_Black'],inplace=True)\n",
    "    xtrain1.drop(columns=['Color_White','Color_Black'],inplace=True)\n",
    "    xtest1.drop(columns=['Color_White','Color_Black'],inplace=True)\n",
    "\n",
    "    return xtrain0,xtest0,ytrain0,ytest0,xtrain1,xtest1,ytrain1,ytest1\n",
    "\n",
    "xtrain0,xtest0,ytrain0,ytest0,xtrain1,xtest1,ytrain1,ytest1 = sets_()"
   ]
  },
  {
   "cell_type": "code",
   "execution_count": 24,
   "metadata": {
    "pycharm": {
     "name": "#%%\n"
    }
   },
   "outputs": [],
   "source": [
    "def sets_():\n",
    "    df = pd.read_csv(\"chess_games.csv\")\n",
    "    targets = df.Name\n",
    "    df,targets = df[df[\"Name\"]!=\"Rochade_Augsburg\"],targets[df[\"Name\"]!=\"Rochade_Augsburg\"]\n",
    "    data = df.drop(columns=['Name', 'Variant', 'Moves'])\n",
    "\n",
    "    # data,targets = data[data[\"Name\"]!=\"Rochade_Augsburg\"],targets[data[\"Name\"]!=\"Rochade_Augsburg\"]\n",
    "    # print(data.columns)\n",
    "    cols = list(data.columns).remove(\"Color\")\n",
    "    data = pd.get_dummies(data,columns=cols)\n",
    "\n",
    "    # print(data.columns)\n",
    "    # print(data[data['Color_White']==1])\n",
    "    xtrain,xtest,ytrain,ytest = train_test_split(data[data['Color_White']==0],targets[data['Color_White']==0])\n",
    "    xtrain.drop(columns=['Color_White','Color_Black'],inplace=True)\n",
    "    xtest.drop(columns=['Color_White','Color_Black'],inplace=True)\n",
    "\n",
    "    return xtrain,xtest,ytrain,ytest\n",
    "\n",
    "b_xtrain,b_xtest,b_ytrain,b_ytest = sets_()\n",
    "#black\n",
    "black_predict = KNeighborsClassifier(n_neighbors=4,weights='uniform',algorithm='brute').fit(b_xtrain,b_ytrain).predict(b_xtest)\n",
    "black_score = sum(black_predict == b_ytest) / len(b_ytest)\n",
    "def sets_():\n",
    "    df = pd.read_csv(\"chess_games.csv\")\n",
    "    targets = df.Name\n",
    "    df,targets = df[df[\"Name\"]!=\"Rochade_Augsburg\"],targets[df[\"Name\"]!=\"Rochade_Augsburg\"]\n",
    "    data = df.drop(columns=['Name', 'Variant', 'Moves'])\n",
    "    # data,targets = data[data[\"Name\"]!=\"Rochade_Augsburg\"],targets[data[\"Name\"]!=\"Rochade_Augsburg\"]\n",
    "\n",
    "    # print(data.columns)\n",
    "    cols = list(data.columns).remove(\"Color\")\n",
    "    data = pd.get_dummies(data,columns=cols)\n",
    "    # print(data.columns)\n",
    "    # print(data[data['Color_White']==1])\n",
    "    xtrain,xtest,ytrain,ytest = train_test_split(data[data['Color_White']==1],targets[data['Color_White']==1])\n",
    "    xtrain.drop(columns=['Color_White','Color_Black'],inplace=True)\n",
    "    xtest.drop(columns=['Color_White','Color_Black'],inplace=True)\n",
    "\n",
    "    return xtrain,xtest,ytrain,ytest\n",
    "\n",
    "w_xtrain,w_xtest,w_ytrain,w_ytest = sets_()\n",
    "#white\n",
    "white_predict = KNeighborsClassifier(n_neighbors=4,weights='uniform',algorithm='brute').fit(w_xtrain,w_ytrain).predict(w_xtest)\n",
    "white_score = sum(white_predict == w_ytest) / len(w_ytest)"
   ]
  },
  {
   "cell_type": "code",
   "execution_count": 25,
   "metadata": {},
   "outputs": [
    {
     "name": "stdout",
     "output_type": "stream",
     "text": [
      "Our new white baseline is 0.08748317631224764 which we get by guessing kc6.\n"
     ]
    }
   ],
   "source": [
    "print(\"Our new white baseline is {} which we get by guessing {}.\".format(*generate_baseline(ytrain1,ytest1)))"
   ]
  },
  {
   "cell_type": "code",
   "execution_count": 26,
   "metadata": {},
   "outputs": [
    {
     "name": "stdout",
     "output_type": "stream",
     "text": [
      "Our new black baseline is 0.3463414634146341 which we get by guessing kc6.\n"
     ]
    }
   ],
   "source": [
    "print(\"Our new black baseline is {} which we get by guessing {}.\".format(*generate_baseline(ytrain0,ytest0)))"
   ]
  },
  {
   "cell_type": "code",
   "execution_count": 27,
   "metadata": {
    "pycharm": {
     "name": "#%%\n"
    }
   },
   "outputs": [
    {
     "name": "stdout",
     "output_type": "stream",
     "text": [
      "Testing K Nearest Neighbors Classifier on the Black games and scored : 0.624390243902439\n",
      "Testing K Nearest Neighbors Classifier on the White games and scored : 0.46837146702557203\n"
     ]
    }
   ],
   "source": [
    "print(f'Testing K Nearest Neighbors Classifier on the Black games and scored : {KNeighborsClassifier(n_neighbors=4,weights=\"distance\",algorithm=\"brute\").fit(xtrain0,ytrain0).score(xtest0,ytest0)}')\n",
    "print(f'Testing K Nearest Neighbors Classifier on the White games and scored : {KNeighborsClassifier(n_neighbors=4,weights=\"distance\",algorithm=\"brute\").fit(xtrain1,ytrain1).score(xtest1,ytest1)}')\n",
    "# print(f'Testing Multinomial Naive Bayes Classifier on the Black games and scored : {MultinomialNB().fit(xtrain0,ytrain0).score(xtest0,ytest0)}')\n",
    "# print(f'Testing Multinomial Naive Bayes Classifier on the White games and scored : {MultinomialNB().fit(xtrain1,ytrain1).score(xtest1,ytest1)}')\n",
    "# print(f'Testing Random Forest Classifier on the Black games and scored : {RandomForestClassifier().fit(xtrain0,ytrain0).score(xtest0,ytest0)}')\n",
    "# print(f'Testing Random Forest Classifier on the White games and scored : {RandomForestClassifier().fit(xtrain1,ytrain1).score(xtest1,ytest1)}')\n",
    "# print(f'Testing Multi Layer Perceptron on the Black games and scored : {MLPClassifier().fit(xtrain0,ytrain0).score(xtest0,ytest0)}')\n",
    "# print(f'Testing Multi Layer Perceptron on the White games and scored : {MLPClassifier().fit(xtrain1,ytrain1).score(xtest1,ytest1)}')\n",
    "# print(f'Testing Naive Bayes Classifier on the Black games and scored : {GaussianNB().fit(xtrain0,ytrain0).score(xtest0,ytest0)}')\n",
    "# print(f'Testing Naive Bayes Classifier on the White games and scored : {GaussianNB().fit(xtrain1,ytrain1).score(xtest1,ytest1)}')"
   ]
  },
  {
   "cell_type": "markdown",
   "metadata": {
    "pycharm": {
     "name": "#%% md\n"
    }
   },
   "source": [
    "After removing Rochade_Augsburg’s data, notice that the next most common player is kc6, who makes up a much smaller portion of the dataset than Rochade_Augsburg did before.\n",
    "We also note that each classifier performed nearly as well on this stripped dataset, showing that we are still able to produce fantastic results with a more equally weighted dataset.\n"
   ]
  },
  {
   "cell_type": "markdown",
   "metadata": {},
   "source": [
    "## Ethics\n",
    "\n",
    "As all of the data can be obtained from Lichess, we did not use any data that was not already publicly available.\n",
    "Lichess players expect their games to be saved so they are aware their game data could be observed.\n",
    "Since these players are higher rated, they likely know that their lichess data could be used for purposes like this."
   ]
  },
  {
   "cell_type": "markdown",
   "metadata": {},
   "source": [
    "## Moving Forward\n",
    "\n",
    "Since we have achieved great success at predicting the chess player based off of the game, we could try to do the same for chess 960, a variant of chess created by Bobby Fisher with randomized starting positions.\n",
    "We believe that the variety of starting positions would make KNN perform less well since it is less likely that we will find a similar game from the same player when the starting position that led to the game only occurs once out of every 960 times.\n",
    "We could test this and know for sure."
   ]
  }
 ],
 "metadata": {
  "kernelspec": {
   "display_name": "Python 3 (ipykernel)",
   "language": "python",
   "name": "python3"
  },
  "language_info": {
   "codemirror_mode": {
    "name": "ipython",
    "version": 3
   },
   "file_extension": ".py",
   "mimetype": "text/x-python",
   "name": "python",
   "nbconvert_exporter": "python",
   "pygments_lexer": "ipython3",
   "version": "3.8.10"
  }
 },
 "nbformat": 4,
 "nbformat_minor": 4
}
