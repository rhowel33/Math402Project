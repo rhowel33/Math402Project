{
 "cells": [
  {
   "cell_type": "markdown",
   "metadata": {
    "pycharm": {
     "name": "#%% md\n"
    }
   },
   "source": [
    "# Predicting Grandmasters\n",
    "## Volume 3 Math 402 Final Project\n",
    "\n",
    "### Damian and Whitney Anderson,\n",
    "### Nathan Christiansen, Reagan Howell\n",
    "\n",
    "#### Date 11/16/2021"
   ]
  },
  {
   "cell_type": "markdown",
   "metadata": {
    "pycharm": {
     "name": "#%% md\n"
    }
   },
   "source": [
    "# Introduction\n",
    "Have you ever started playing a game of chess online and wondered if your opponent was one of the top players on lichess.org?\n",
    "\n",
    "We have ... well, not really, but we were wondering how accurately could you predict your chess opponent based on the moves that they make.\n",
    "In the past, chess opening moves were studied to find the move order that would give the\n",
    "\n",
    "So taking the top ~30 players on lichess.org and downloading their classical and rapid format (>25 min and >10 min respectively) games.\n",
    "With their games in what would it take to help us understand the patterns that these masters are making."
   ]
  },
  {
   "cell_type": "markdown",
   "metadata": {
    "pycharm": {
     "name": "#%% md\n"
    }
   },
   "source": [
    "### Importing, Parsing and Cleaning the Data\n",
    "\n",
    "All games were downloaded from lichess.org open database using links like this\n",
    "\n",
    "https://lichess.org/api/games/user/Al_shima?rated=true&analysed=true&tags=true&clocks=true&evals=false&opening=false&perfType=rapid\n",
    "\n",
    "The using regex to remove any of the unimportant information and stripping the .txt files to get the chess game Portable Game Notation (pgn) and the moves that were made."
   ]
  },
  {
   "cell_type": "code",
   "execution_count": 46,
   "metadata": {
    "jupyter": {
     "source_hidden": true
    },
    "pycharm": {
     "name": "#%%\n"
    },
    "tags": []
   },
   "outputs": [],
   "source": [
    "import os\n",
    "import regex as re\n",
    "import numpy as np\n",
    "import pandas as pd\n",
    "from sklearn.linear_model import LinearRegression, LogisticRegression,LogisticRegressionCV,Perceptron\n",
    "from sklearn.ensemble import RandomForestClassifier\n",
    "from sklearn.neighbors import KNeighborsClassifier\n",
    "from sklearn.model_selection import train_test_split,GridSearchCV\n",
    "from sklearn.naive_bayes import MultinomialNB,GaussianNB\n",
    "from mpl_toolkits.axes_grid1 import make_axes_locatable\n",
    "\n",
    "from sklearn.neural_network import MLPClassifier\n",
    "from matplotlib import pyplot as plt\n",
    "from statistics import mode\n",
    "\n",
    "\n",
    "from matplotlib.colors import LogNorm"
   ]
  },
  {
   "cell_type": "code",
   "execution_count": 2,
   "metadata": {
    "pycharm": {
     "name": "#%%\n"
    }
   },
   "outputs": [],
   "source": [
    "path = './games'\n",
    "def files(path = './games'):\n",
    "    \"\"\"\n",
    "    Grab all the txt file names and find the player name from it\n",
    "    Returns the filenames and the players\n",
    "    \"\"\"\n",
    "\n",
    "    file = os.listdir(path)\n",
    "    players = [file[i][8:-15] for i in range(len(file))]\n",
    "\n",
    "    return file, players"
   ]
  },
  {
   "cell_type": "code",
   "execution_count": 3,
   "metadata": {
    "pycharm": {
     "name": "#%%\n"
    }
   },
   "outputs": [],
   "source": [
    "def get_games(file, player):\n",
    "    \"\"\"\n",
    "    Some of the game files has a chess clock time in the pgn file, so using regex we remove the time stamps.\n",
    "    We are given the filename and the player name as inputs, then sorting through the file find the color, the variant and the moves played.\n",
    "\n",
    "    \"\"\"\n",
    "    white_clock = re.compile('{ \\[%\\S* [0-9]*:[0-9]*:[0-9]*\\] } [0-9]+\\.\\.\\.')\n",
    "    black_clock = re.compile('{ \\[%\\S* [0-9]+:[0-9]+:[0-9]+\\] }')\n",
    "    pre_df = []\n",
    "    #open the file\n",
    "    with open(file) as fin:\n",
    "        lines = fin.readlines()\n",
    "\n",
    "        for i in range(len(lines)):\n",
    "            if player in lines[i]:\n",
    "                color = lines[i][1:6] # get the color that the player is playing\n",
    "\n",
    "                #Because each game is inconsistent with the rows that are included,\n",
    "                #we need to check several different rows to find the variant being played.\n",
    "                if color == \"White\":\n",
    "                    if ('Variant' in lines[i+6]):\n",
    "                        variant = lines[i+6][10:-3]\n",
    "\n",
    "                    elif ('Variant' in lines[i+7]):\n",
    "                        variant = lines[i+7][10:-3]\n",
    "\n",
    "                    elif ('Variant' in lines[i+8]):\n",
    "                        variant = lines[i+8][10:-3]\n",
    "\n",
    "                    elif ('Variant' in lines[i + 9]):\n",
    "                        variant = lines[i + 9][10:-3]\n",
    "\n",
    "                    elif ('Variant' in lines[i + 10]):\n",
    "                        variant = lines[i + 10][10:-3]\n",
    "\n",
    "                    elif ('Variant' in lines[i + 11]):\n",
    "                        variant = lines[i + 11][10:-3]\n",
    "\n",
    "                    elif ('Variant' in lines[i + 12]):\n",
    "                        variant = lines[i + 12][10:-3]\n",
    "\n",
    "                    #each of these if blocks, tries to find the starting moves, and checks to makes sure\n",
    "                    #that each game being added to the dataframe is of at least a minimum length\n",
    "                    if (len(lines[i+14]) > 60) and ('1. ' in lines[i + 14]):\n",
    "                        line = lines[i + 14]\n",
    "                        new_line = re.sub(white_clock, str(), line)\n",
    "                        newer_line = re.sub(black_clock, str(), new_line)\n",
    "                        pre_df.append([player, color, variant, newer_line])\n",
    "\n",
    "                    elif (len(lines[i+15]) > 60) and ('1. ' in lines[i + 15]):\n",
    "                        line = lines[i + 15]\n",
    "                        new_line = re.sub(white_clock, str(), line)\n",
    "                        newer_line = re.sub(black_clock, str(), new_line)\n",
    "                        pre_df.append([player, color, variant, newer_line])\n",
    "\n",
    "                    elif (len(lines[i+16]) > 60) and ('1. ' in lines[i + 16]):\n",
    "                        line = lines[i + 16]\n",
    "                        new_line = re.sub(white_clock, str(), line)\n",
    "                        newer_line = re.sub(black_clock, str(), new_line)\n",
    "                        pre_df.append([player, color, variant, newer_line])\n",
    "\n",
    "                #see comments for the white code\n",
    "                elif color == \"Black\":\n",
    "                    if ('Variant' in lines[i + 6]):\n",
    "                        variant = lines[i + 6][10:-3]\n",
    "\n",
    "                    elif ('Variant' in lines[i + 7]):\n",
    "                        variant = lines[i + 7][10:-3]\n",
    "\n",
    "                    elif ('Variant' in lines[i + 8]):\n",
    "                        variant = lines[i + 8][10:-3]\n",
    "\n",
    "                    elif ('Variant' in lines[i + 9]):\n",
    "                        variant = lines[i + 9][10:-3]\n",
    "\n",
    "                    elif ('Variant' in lines[i + 10]):\n",
    "                        variant = lines[i + 10][10:-3]\n",
    "\n",
    "                    elif ('Variant' in lines[i + 11]):\n",
    "                        variant = lines[i + 11][10:-3]\n",
    "\n",
    "                    elif ('Variant' in lines[i + 12]):\n",
    "                        variant = lines[i + 12][10:-3]\n",
    "\n",
    "                    if (len(lines[i+14]) > 60) and ('1. ' in lines[i + 14]):\n",
    "                        line = lines[i + 14]\n",
    "                        new_line = re.sub(white_clock, str(), line)\n",
    "                        newer_line = re.sub(black_clock, str(), new_line)\n",
    "                        pre_df.append([player, color, variant, newer_line])\n",
    "\n",
    "                    elif (len(lines[i+15]) > 60) and ('1. ' in lines[i + 15]):\n",
    "                        line = lines[i + 15]\n",
    "                        new_line = re.sub(white_clock, str(), line)\n",
    "                        newer_line = re.sub(black_clock, str(), new_line)\n",
    "                        pre_df.append([player, color, variant, newer_line])\n",
    "\n",
    "    return pre_df"
   ]
  },
  {
   "cell_type": "code",
   "execution_count": 4,
   "metadata": {
    "pycharm": {
     "name": "#%%\n"
    }
   },
   "outputs": [],
   "source": [
    "def create_database():\n",
    "    \"\"\"\n",
    "    Calls the files, get_games functions to creates a dataframe\n",
    "    Returns a dataframe\n",
    "\n",
    "    \"\"\"\n",
    "    file, players = files()\n",
    "    df = []\n",
    "    for i in range(len(players)):\n",
    "        #create a list of all the files and their corresponding players and then input that list into the DataFrame\n",
    "        df.extend(get_games(path + '/' + file[i], players[i]))\n",
    "    df = pd.DataFrame(df, columns=['Name', 'Color', 'Variant', 'Moves'])\n",
    "    df = df[df['Variant'] == 'Standard']\n",
    "    return df"
   ]
  },
  {
   "cell_type": "markdown",
   "metadata": {
    "pycharm": {
     "name": "#%% md\n"
    }
   },
   "source": [
    "The main function utilizes the create_database() function to access the data files and build our DataFrame. We create a\n",
    "DataFrame with columns for the players' name, color they were playing as, the variant, and the first 14 moves they make\n",
    "in their game. We then import that Dataframe into chess_games.csv."
   ]
  },
  {
   "cell_type": "code",
   "execution_count": 5,
   "metadata": {
    "pycharm": {
     "name": "#%%\n"
    }
   },
   "outputs": [],
   "source": [
    "def main():\n",
    "    \"\"\"\n",
    "    After creating the dataframe with the cleaned data, we need to change the one columns of  14 moves into\n",
    "    14 columns of 1 moves each.\n",
    "    Then we drop the na that slipped through\n",
    "    Saves it to a csv file\n",
    "    Returns None\n",
    "    \"\"\"\n",
    "    df = create_database()\n",
    "    moves = [f'{i}.' for i in range(1,16)]\n",
    "    for move in moves:\n",
    "        df[move] = np.nan\n",
    "    #instead of having a list of 14 moves, we need columns for each of the individual 14 moves.\n",
    "    for i in range(len(df)):\n",
    "        move_order = df.iloc[i].Moves\n",
    "        if i >830 and i < 835:\n",
    "            pass\n",
    "        else:\n",
    "            # print(i)\n",
    "            for j in range(len(moves)-1):\n",
    "                first_ind = move_order.find(moves[j])\n",
    "                second_ind = move_order.find(moves[j+1])\n",
    "                if second_ind == -1:\n",
    "                    break\n",
    "                else:\n",
    "                    df.loc[i, moves[j]] = move_order[first_ind:second_ind-1]\n",
    "\n",
    "\n",
    "    df.drop(df.columns[-1],axis=1,inplace=True)\n",
    "    df.dropna(inplace=True)\n",
    "    for i in range(len(moves)-1):\n",
    "        df.loc[:,moves[i]] = df.loc[:,moves[i]].str[3:]\n",
    "    df = df.dropna()\n",
    "    df.to_csv(r'chess_games.csv', index=True, header=True)\n",
    "    return\n",
    "\n",
    "main()"
   ]
  },
  {
   "cell_type": "markdown",
   "metadata": {
    "pycharm": {
     "name": "#%% md\n"
    }
   },
   "source": [
    "### Creating the X-data and the y-targets"
   ]
  },
  {
   "cell_type": "markdown",
   "metadata": {
    "pycharm": {
     "name": "#%% md\n"
    }
   },
   "source": [
    "Here we load chess_games.csv and break it into the data and the targets. We hope to predict the name of the Grandmaster\n",
    "playing the game, so we choose the name column as our targets. We are using the first 14 moves the player makes in order\n",
    "to predict who is playing, so our data is the 14 columns of moves from each game. We create a train/test split of .75\n",
    "training and .25 testing."
   ]
  },
  {
   "cell_type": "code",
   "execution_count": 6,
   "metadata": {
    "pycharm": {
     "name": "#%%\n"
    }
   },
   "outputs": [
    {
     "name": "stdout",
     "output_type": "stream",
     "text": [
      "Index(['Unnamed: 0', 'Color_Black', 'Color_White', '1._Nc3  Nf6 ',\n",
      "       '1._Nc3  c5 ', '1._Nc3  d5 ', '1._Nc3  d6 ', '1._Nc3  e5 ',\n",
      "       '1._Nc3  e6 ', '1._Nc3  f5 ',\n",
      "       ...\n",
      "       '14._ hxg4  fxg2 ', '14._ hxg4 Bxg4', '14._ hxg4 Nh6',\n",
      "       '14._ hxg5  Bf5 ', '14._ hxg5  Qxg5+ ', '14._ hxg5  c5 ',\n",
      "       '14._ hxg5 c5', '14._ hxg6  hxg6 ', '14._ hxg6 f5', '14._ hxg6 hxg6'],\n",
      "      dtype='object', length=42023)\n"
     ]
    }
   ],
   "source": [
    "def load_():\n",
    "    df = pd.read_csv(\"chess_games.csv\")\n",
    "    targets = df.Name\n",
    "    data = df.drop(columns=['Name', 'Variant', 'Moves'])\n",
    "    return data, targets\n",
    "\n",
    "\n",
    "def sets_(blocklist = []):\n",
    "    data, targets = load_()\n",
    "    # print(data.columns)\n",
    "    cols = list(data.columns).remove(\"Color\")\n",
    "    data = pd.get_dummies(data,columns=cols)\n",
    "    # print(data.columns)\n",
    "    # print(data[data['Color_White']==1])\n",
    "    xtrain,xtest,ytrain,ytest = train_test_split(data[data['Color_White']==0],targets[data['Color_White']==0])\n",
    "    # print(xtrain.columns)\n",
    "    xtrain.drop(columns=['Color_White','Color_Black'],inplace=True)\n",
    "    xtest.drop(columns=['Color_White','Color_Black'],inplace=True)\n",
    "\n",
    "    return xtrain,xtest,ytrain,ytest\n",
    "\n",
    "xtrain,xtest,ytrain,ytest = sets_()"
   ]
  },
  {
   "cell_type": "markdown",
   "metadata": {
    "pycharm": {
     "name": "#%% md\n"
    }
   },
   "source": [
    "Now that we have split the data, we use several classifiers with some adjustments to hyper-parameters to figure out\n",
    "which combination gives us the most accurate prediction of the Grandmaster playing any given game. In order to make\n",
    "sure that no classifier got a better split than the others, we (begrudgingly) made the xtrain, xtest, ytrain, and ytest \n",
    "variables global and accessible to any function or method.\n"
   ]
  },
  {
   "cell_type": "markdown",
   "metadata": {},
   "source": [
    "## KNeighborsClassifier\n",
    "After doing a lot of Grid Searching by \"hand\", we found this that looking at the 4 nearest neighbors, \n",
    "using a distance metric and jst the brute force algorithm resulted in the fastest and highest scoring model type."
   ]
  },
  {
   "cell_type": "code",
   "execution_count": 7,
   "metadata": {},
   "outputs": [],
   "source": [
    "def generate_baseline():\n",
    "    best_guess = mode(ytrain)\n",
    "    baseline = sum(ytest == best_guess) / len(ytest)\n",
    "    return baseline, best_guess"
   ]
  },
  {
   "cell_type": "markdown",
   "metadata": {},
   "source": [
    "For our baseline, we chose to look at the accuracy of always choosing the most common player. We hoped to use the game data to outperform this."
   ]
  },
  {
   "cell_type": "code",
   "execution_count": 102,
   "metadata": {},
   "outputs": [
    {
     "name": "stdout",
     "output_type": "stream",
     "text": [
      "Our baseline is 0.5545454545454546 which we get by guessing Rochade_Augsburg every time.\n"
     ]
    }
   ],
   "source": [
    "print(\"This baseline is {} which we get by guessing {} every time.\".format(*generate_baseline()))"
   ]
  },
  {
   "cell_type": "code",
   "execution_count": 9,
   "metadata": {},
   "outputs": [],
   "source": [
    "def sets_():\n",
    "    data, targets = load_()\n",
    "    # print(data.columns)\n",
    "    cols = list(data.columns).remove(\"Color\")\n",
    "    data = pd.get_dummies(data,columns=cols)\n",
    "    # print(data.columns)\n",
    "    # print(data[data['Color_White']==1])\n",
    "    xtrain,xtest,ytrain,ytest = train_test_split(data[data['Color_White']==0],targets[data['Color_White']==0])\n",
    "    xtrain.drop(columns=['Color_White','Color_Black'],inplace=True)\n",
    "    xtest.drop(columns=['Color_White','Color_Black'],inplace=True)\n",
    "\n",
    "    return xtrain,xtest,ytrain,ytest\n",
    "\n",
    "b_xtrain,b_xtest,b_ytrain,b_ytest = sets_()\n",
    "#black\n",
    "black_predict = KNeighborsClassifier(n_neighbors=4,weights='uniform',algorithm='brute').fit(b_xtrain,b_ytrain).predict(b_xtest)\n",
    "black_score = sum(black_predict == b_ytest) / len(b_ytest)"
   ]
  },
  {
   "cell_type": "code",
   "execution_count": 10,
   "metadata": {},
   "outputs": [],
   "source": [
    "def sets_():\n",
    "    data, targets = load_()\n",
    "    # print(data.columns)\n",
    "    cols = list(data.columns).remove(\"Color\")\n",
    "    data = pd.get_dummies(data,columns=cols)\n",
    "    # print(data.columns)\n",
    "    # print(data[data['Color_White']==1])\n",
    "    xtrain,xtest,ytrain,ytest = train_test_split(data[data['Color_White']==1],targets[data['Color_White']==1])\n",
    "    xtrain.drop(columns=['Color_White','Color_Black'],inplace=True)\n",
    "    xtest.drop(columns=['Color_White','Color_Black'],inplace=True)\n",
    "\n",
    "    return xtrain,xtest,ytrain,ytest\n",
    "\n",
    "w_xtrain,w_xtest,w_ytrain,w_ytest = sets_()\n",
    "#white\n",
    "white_predict = KNeighborsClassifier(n_neighbors=4,weights='uniform',algorithm='brute').fit(w_xtrain,w_ytrain).predict(w_xtest)\n",
    "white_score = sum(white_predict == w_ytest) / len(w_ytest)"
   ]
  },
  {
   "cell_type": "code",
   "execution_count": 11,
   "metadata": {},
   "outputs": [],
   "source": [
    "def confusion_matrix(actual, guesses):\n",
    "    actual = np.array(actual)\n",
    "    guesses = np.array(guesses)\n",
    "    outputs = np.unique(np.concatenate((actual, guesses)))\n",
    "    output_to_index = dict()\n",
    "    for i in range(len(outputs)):\n",
    "        output_to_index[outputs[i]] = i\n",
    "    \n",
    "    matrix = np.zeros((len(outputs), len(outputs)))\n",
    "    \n",
    "    for i in range(len(actual)):\n",
    "        matrix[output_to_index[actual[i]], output_to_index[guesses[i]]] += 1\n",
    "    return outputs, matrix"
   ]
  },
  {
   "cell_type": "code",
   "execution_count": 12,
   "metadata": {},
   "outputs": [],
   "source": [
    "def summarize_confusion(outputs, matrix):\n",
    "    for i in range(len(outputs)):\n",
    "        print(str(outputs[i]) + \":\")\n",
    "        print(\"Correctly identified \" + str(int(matrix[i][i])) + \" games out of \" + str(int(sum(matrix[i]))) + \".\")\n",
    "        for j in range(len(outputs)):\n",
    "            if i == j:\n",
    "                continue\n",
    "            if matrix[i][j] == 1:\n",
    "                print(str(int(matrix[i][j])) + \" game was misclassified as \" + str(outputs[j]) + \".\")\n",
    "            if matrix[i][j] > 1:\n",
    "                print(str(int(matrix[i][j])) + \" games were misclassified as \" + str(outputs[j]) + \".\")\n",
    "        print()"
   ]
  },
  {
   "cell_type": "code",
   "execution_count": 13,
   "metadata": {},
   "outputs": [],
   "source": [
    "black_labels, black_matrix = confusion_matrix(b_ytest, black_predict)\n",
    "white_labels, white_matrix = confusion_matrix(w_ytest, white_predict)\n",
    "labels, matrix = confusion_matrix(np.concatenate((w_ytest, b_ytest)), np.concatenate((white_predict, black_predict)))"
   ]
  },
  {
   "cell_type": "code",
   "execution_count": 14,
   "metadata": {},
   "outputs": [
    {
     "name": "stdout",
     "output_type": "stream",
     "text": [
      "ARM__55555:\n",
      "Correctly identified 13 games out of 14.\n",
      "1 game was misclassified as Casabianka.\n",
      "\n",
      "Casabianka:\n",
      "Correctly identified 60 games out of 60.\n",
      "\n",
      "GabrielTricks2003:\n",
      "Correctly identified 46 games out of 47.\n",
      "1 game was misclassified as Casabianka.\n",
      "\n",
      "GrandLapin:\n",
      "Correctly identified 56 games out of 57.\n",
      "1 game was misclassified as GabrielTricks2003.\n",
      "\n",
      "HoochieChoochieMan:\n",
      "Correctly identified 25 games out of 26.\n",
      "1 game was misclassified as GrandLapin.\n",
      "\n",
      "IAmMateCheckMate:\n",
      "Correctly identified 65 games out of 65.\n",
      "\n",
      "Jack202013:\n",
      "Correctly identified 36 games out of 36.\n",
      "\n",
      "Jebatdurhaka:\n",
      "Correctly identified 52 games out of 52.\n",
      "\n",
      "Konnov_Oleg:\n",
      "Correctly identified 16 games out of 18.\n",
      "2 games were misclassified as kc6.\n",
      "\n",
      "Leleilre:\n",
      "Correctly identified 20 games out of 20.\n",
      "\n",
      "Lord-Universe31:\n",
      "Correctly identified 47 games out of 48.\n",
      "1 game was misclassified as Medarde94.\n",
      "\n",
      "Medarde94:\n",
      "Correctly identified 8 games out of 8.\n",
      "\n",
      "Rochade_Augsburg:\n",
      "Correctly identified 618 games out of 619.\n",
      "1 game was misclassified as RusChessCoach.\n",
      "\n",
      "RusChessCoach:\n",
      "Correctly identified 9 games out of 9.\n",
      "\n",
      "SouthernChessPlayer:\n",
      "Correctly identified 54 games out of 55.\n",
      "1 game was misclassified as Rochade_Augsburg.\n",
      "\n",
      "Squaretaker:\n",
      "Correctly identified 90 games out of 90.\n",
      "\n",
      "Suleymanov_Marat:\n",
      "Correctly identified 16 games out of 17.\n",
      "1 game was misclassified as Squaretaker.\n",
      "\n",
      "Thorwald5:\n",
      "Correctly identified 31 games out of 32.\n",
      "1 game was misclassified as xx-bob.\n",
      "\n",
      "jbrere:\n",
      "Correctly identified 64 games out of 64.\n",
      "\n",
      "kc6:\n",
      "Correctly identified 144 games out of 145.\n",
      "1 game was misclassified as Konnov_Oleg.\n",
      "\n",
      "nmiq:\n",
      "Correctly identified 53 games out of 54.\n",
      "1 game was misclassified as Rochade_Augsburg.\n",
      "\n",
      "splendidkid:\n",
      "Correctly identified 33 games out of 33.\n",
      "\n",
      "xx-bob:\n",
      "Correctly identified 23 games out of 23.\n",
      "\n"
     ]
    }
   ],
   "source": [
    "summarize_confusion(labels, matrix)"
   ]
  },
  {
   "cell_type": "markdown",
   "metadata": {},
   "source": [
    "## Confusion Matrix\n",
    "\n",
    "The confusion matrix shows which players are misclassified as which other players. The row corresponds to the actual player and the column corresponds to the predicted player. Above each confusion matrix is a list of all the players in the matrix, ordered left to right or top to bottom Dark. These confusion matrices are generated using k nearest neighbors with 4 neighbors."
   ]
  },
  {
   "cell_type": "code",
   "execution_count": 101,
   "metadata": {},
   "outputs": [
    {
     "data": {
      "image/png": "[encoded data removed]",
      "text/plain": [
       "<Figure size 432x288 with 2 Axes>"
      ]
     },
     "metadata": {
      "needs_background": "light"
     },
     "output_type": "display_data"
    },
    {
     "data": {
      "image/png": "[encoded data removed]",
      "text/plain": [
       "<Figure size 432x288 with 2 Axes>"
      ]
     },
     "metadata": {
      "needs_background": "light"
     },
     "output_type": "display_data"
    },
    {
     "data": {
      "image/png": "[encoded data removed]",
      "text/plain": [
       "<Figure size 432x288 with 2 Axes>"
      ]
     },
     "metadata": {
      "needs_background": "light"
     },
     "output_type": "display_data"
    }
   ],
   "source": [
    "plt.figure()\n",
    "plt.dpi = 100\n",
    "ax1 = plt.subplot(111)\n",
    "plt.title(\"Black Confusion Matrix\")\n",
    "ax1.matshow(black_matrix, norm = LogNorm())\n",
    "ax1.set_xticks(range(len(black_labels)))\n",
    "ax1.set_xticklabels(black_labels)\n",
    "ax1.tick_params(axis=\"x\", rotation=-90)\n",
    "ax1.set_yticks(range(len(black_labels)))\n",
    "ax1.set_yticklabels(black_labels)\n",
    "fig.colorbar(c, ax = ax1)\n",
    "plt.show()\n",
    "\n",
    "plt.figure()\n",
    "ax2 = plt.subplot(111)\n",
    "plt.title(\"White Confusion Matrix\")\n",
    "ax2.matshow(white_matrix, norm = LogNorm())\n",
    "ax2.set_xticks(range(len(white_labels)))\n",
    "ax2.set_xticklabels(white_labels)\n",
    "ax2.tick_params(axis=\"x\", rotation=-90)\n",
    "ax2.set_yticks(range(len(white_labels)))\n",
    "ax2.set_yticklabels(white_labels)\n",
    "fig.colorbar(c, ax = ax2)\n",
    "plt.show()\n",
    "\n",
    "plt.figure()\n",
    "ax3 = plt.subplot(111)\n",
    "plt.title(\"Confusion Matrix\")\n",
    "ax3.matshow(matrix, norm = LogNorm())\n",
    "ax3.set_xticks(range(len(labels)))\n",
    "ax3.set_xticklabels(labels)\n",
    "ax3.tick_params(axis=\"x\", rotation=-90)\n",
    "ax3.set_yticks(range(len(labels)))\n",
    "ax3.set_yticklabels(labels)\n",
    "fig.colorbar(c, ax = ax3)\n",
    "plt.show()"
   ]
  },
  {
   "cell_type": "code",
   "execution_count": null,
   "metadata": {},
   "outputs": [],
   "source": [
    "score = (white_score * len(w_ytest) + black_score * len(b_ytest)) / (len(b_ytest) + len(w_ytest))\n",
    "print(\"White classification\", white_score)\n",
    "print(\"Black classification\", black_score)\n",
    "print(\"Average score\", score)"
   ]
  },
  {
   "cell_type": "code",
   "execution_count": null,
   "metadata": {
    "pycharm": {
     "name": "#%%\n"
    }
   },
   "outputs": [],
   "source": [
    "KNeighborsClassifier(n_neighbors=4,weights='distance',algorithm='brute').fit(xtrain,ytrain).score(xtest,ytest)"
   ]
  },
  {
   "cell_type": "markdown",
   "metadata": {},
   "source": [
    "## MultinomialNB"
   ]
  },
  {
   "cell_type": "code",
   "execution_count": null,
   "metadata": {
    "pycharm": {
     "name": "#%%\n"
    }
   },
   "outputs": [],
   "source": [
    "MultinomialNB().fit(xtrain,ytrain).score(xtest,ytest)\n"
   ]
  },
  {
   "cell_type": "markdown",
   "metadata": {},
   "source": [
    "## Random Forests"
   ]
  },
  {
   "cell_type": "code",
   "execution_count": null,
   "metadata": {
    "pycharm": {
     "name": "#%%\n"
    }
   },
   "outputs": [],
   "source": [
    "RandomForestClassifier().fit(xtrain,ytrain).score(xtest,ytest)\n"
   ]
  },
  {
   "cell_type": "markdown",
   "metadata": {},
   "source": [
    "## MLPClassifier"
   ]
  },
  {
   "cell_type": "code",
   "execution_count": null,
   "metadata": {
    "pycharm": {
     "name": "#%%\n"
    }
   },
   "outputs": [],
   "source": [
    "MLPClassifier(hidden_layer_sizes=(50,)).fit(xtrain,ytrain).score(xtest,ytest)"
   ]
  },
  {
   "cell_type": "markdown",
   "metadata": {},
   "source": [
    "## Ethics\n",
    "\n",
    "As all of the data can be obtained from Lichess, we did not use any data that was not already publicly available. Lichess players expect their games to be saved so they are aware their game data could be observed. Since these players are higher rated, they likely know that their lichess data could be used for purposes like this."
   ]
  },
  {
   "cell_type": "markdown",
   "metadata": {},
   "source": [
    "## Moving Forward\n",
    "\n",
    "Since we have achieved great success at predicting the chess player based off of the game, we could try to do the same for chess 960, a variant of chess created by Bobby Fisher with randomized starting positions. We believe that the variety of starting positions would make KNN perform less well since it is less likely that we will find a similar game from the same player when the starting position that led to the game only occures once out of every 960 times. We could test this and know for sure."
   ]
  }
 ],
 "metadata": {
  "kernelspec": {
   "display_name": "Python 3",
   "language": "python",
   "name": "python3"
  },
  "language_info": {
   "codemirror_mode": {
    "name": "ipython",
    "version": 3
   },
   "file_extension": ".py",
   "mimetype": "text/x-python",
   "name": "python",
   "nbconvert_exporter": "python",
   "pygments_lexer": "ipython3",
   "version": "3.8.8"
  }
 },
 "nbformat": 4,
 "nbformat_minor": 4
}
